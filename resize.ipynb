{
 "cells": [
  {
   "cell_type": "code",
   "execution_count": 11,
   "metadata": {},
   "outputs": [],
   "source": [
    "from PIL import Image\n",
    "\n",
    "def resize_image(input_path, output_path):\n",
    "    # Open the image\n",
    "    with Image.open(input_path) as img:\n",
    "        # Convert the image to RGB (if not already in that mode)\n",
    "        img = img.convert(\"RGB\")\n",
    "        # Resize the image to 96x96 pixels\n",
    "        img_resized = img.resize((320, 240))\n",
    "        # Save the resized image\n",
    "        img_resized.save(output_path)\n",
    "\n",
    "# Example usage\n",
    "input_image_path = 'Doughball Detection & Diameter estimation/DB Detection module-1/Development/Imgs/WithoutLoad/Trial 3.jpg'  # Change this to your input image path\n",
    "output_image_path = 'noDB3.jpg'  # Change this to your desired output path\n",
    "resize_image(input_image_path, output_image_path)\n"
   ]
  },
  {
   "cell_type": "markdown",
   "metadata": {},
   "source": [
    "#### PGM"
   ]
  },
  {
   "cell_type": "code",
   "execution_count": 9,
   "metadata": {},
   "outputs": [
    {
     "name": "stdout",
     "output_type": "stream",
     "text": [
      "Converted and resized invalid clean roi.jpg to 96x96_refimages/1.pgm\n",
      "Converted and resized invalid noisy roi.jpg to 96x96_refimages/2.pgm\n",
      "Converted and resized valid clean roi.jpg to 96x96_refimages/3.pgm\n",
      "Converted and resized valid noisy roi.jpg to 96x96_refimages/4.pgm\n"
     ]
    }
   ],
   "source": [
    "import cv2\n",
    "import os\n",
    "\n",
    "# Function to convert, resize, and rename all .jpg images in a folder to .pgm\n",
    "def convert_and_resize_images(input_folder, output_folder, new_size):\n",
    "    # Create the output folder if it doesn't exist\n",
    "    if not os.path.exists(output_folder):\n",
    "        os.makedirs(output_folder)\n",
    "    \n",
    "    # Counter for naming images\n",
    "    counter = 1\n",
    "    \n",
    "    # Loop over all files in the input folder\n",
    "    for filename in os.listdir(input_folder):\n",
    "        if filename.endswith(\".jpg\"):\n",
    "            # Load the image\n",
    "            input_image_path = os.path.join(input_folder, filename)\n",
    "            img = cv2.imread(input_image_path, cv2.IMREAD_GRAYSCALE)\n",
    "            \n",
    "            # Resize the image to the new size\n",
    "            resized_img = cv2.resize(img, new_size)\n",
    "            \n",
    "            # Create output image path with a new name format:  + counter (e.g., kkrV1.pgm)\n",
    "            output_image_name = f\"{counter}.pgm\"\n",
    "            output_image_path = os.path.join(output_folder, output_image_name)\n",
    "            \n",
    "            # Save the resized image in .pgm format\n",
    "            cv2.imwrite(output_image_path, resized_img)\n",
    "            print(f\"Converted and resized {filename} to {output_image_path}\")\n",
    "            \n",
    "            # Increment the counter for the next image\n",
    "            counter += 1\n",
    "\n",
    "# Input folder with .jpg images\n",
    "input_folder = 'ROIS'\n",
    "\n",
    "# Output folder where resized .pgm images will be saved\n",
    "output_folder = '96x96_refimages'\n",
    "\n",
    "# Convert and resize all images to 128x128 and rename them with a  \"kkrV\"\n",
    "convert_and_resize_images(input_folder, output_folder, new_size=(96, 96))"
   ]
  },
  {
   "cell_type": "code",
   "execution_count": null,
   "metadata": {},
   "outputs": [
    {
     "name": "stdout",
     "output_type": "stream",
     "text": [
      "Converted and resized Classes/class_0/cam2024_09_26_14_12_46.jpg to kkrV.pgm\n"
     ]
    }
   ],
   "source": [
    "import cv2\n",
    "import os\n",
    "\n",
    "def convert_and_resize_image(input_image_path, output_image_path, new_size):\n",
    "    # Load the image\n",
    "    img = cv2.imread(input_image_path, cv2.IMREAD_GRAYSCALE)\n",
    "\n",
    "    # Resize the image to the new size\n",
    "    resized_img = cv2.resize(img, new_size)\n",
    "\n",
    "    # Save the resized image in .pgm format\n",
    "    cv2.imwrite(output_image_path, resized_img)\n",
    "    print(f\"Converted and resized {input_image_path} to {output_image_path}\")\n",
    "\n",
    "# Input image path\n",
    "input_image_path = 'Classes/class_0/cam2024_09_26_14_11_31.jpg'\n",
    "\n",
    "# Output image path\n",
    "output_image_path = 'kkrV.pgm'\n",
    "\n",
    "# Convert and resize the image to 200x150\n",
    "convert_and_resize_image(input_image_path, output_image_path, new_size=(320, 240))"
   ]
  }
 ],
 "metadata": {
  "kernelspec": {
   "display_name": "Python 3",
   "language": "python",
   "name": "python3"
  },
  "language_info": {
   "codemirror_mode": {
    "name": "ipython",
    "version": 3
   },
   "file_extension": ".py",
   "mimetype": "text/x-python",
   "name": "python",
   "nbconvert_exporter": "python",
   "pygments_lexer": "ipython3",
   "version": "3.10.12"
  }
 },
 "nbformat": 4,
 "nbformat_minor": 2
}
