{
 "cells": [
  {
   "cell_type": "code",
   "execution_count": 3,
   "metadata": {},
   "outputs": [],
   "source": [
    "from PIL import Image\n",
    "\n",
    "def resize_image(input_path, output_path):\n",
    "    # Open the image\n",
    "    with Image.open(input_path) as img:\n",
    "        # Convert the image to RGB (if not already in that mode)\n",
    "        img = img.convert(\"RGB\")\n",
    "        # Resize the image to 96x96 pixels\n",
    "        img_resized = img.resize((320, 240))\n",
    "        # Save the resized image\n",
    "        img_resized.save(output_path)\n",
    "\n",
    "# Example usage\n",
    "input_image_path = 'iv.jpg'  # Change this to your input image path\n",
    "output_image_path = 'IV.jpg'  # Change this to your desired output path\n",
    "resize_image(input_image_path, output_image_path)\n"
   ]
  }
 ],
 "metadata": {
  "kernelspec": {
   "display_name": "Python 3",
   "language": "python",
   "name": "python3"
  },
  "language_info": {
   "codemirror_mode": {
    "name": "ipython",
    "version": 3
   },
   "file_extension": ".py",
   "mimetype": "text/x-python",
   "name": "python",
   "nbconvert_exporter": "python",
   "pygments_lexer": "ipython3",
   "version": "3.10.12"
  }
 },
 "nbformat": 4,
 "nbformat_minor": 2
}
